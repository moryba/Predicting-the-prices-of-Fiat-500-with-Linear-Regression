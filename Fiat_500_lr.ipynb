{
 "cells": [
  {
   "cell_type": "markdown",
   "metadata": {},
   "source": [
    "# Predicting the prices of Fiat 500 with Linear Regression\n",
    "I built this model with the aim to apply and better understand the linear regression algorithm"
   ]
  },
  {
   "cell_type": "code",
   "execution_count": 43,
   "metadata": {},
   "outputs": [],
   "source": [
    "import sklearn \n",
    "from sklearn.model_selection import train_test_split\n",
    "import seaborn as sns\n",
    "import matplotlib.pyplot as plt\n",
    "from matplotlib.pyplot import figure\n",
    "import numpy as np\n",
    "import scipy as sp\n",
    "import pandas as pd"
   ]
  },
  {
   "cell_type": "markdown",
   "metadata": {},
   "source": [
    "## Gather Data"
   ]
  },
  {
   "cell_type": "code",
   "execution_count": 44,
   "metadata": {},
   "outputs": [],
   "source": [
    "df = pd.read_csv(\"fiat_500_in_Italy.csv\")"
   ]
  },
  {
   "cell_type": "code",
   "execution_count": 45,
   "metadata": {},
   "outputs": [
    {
     "data": {
      "text/html": [
       "<div>\n",
       "<style scoped>\n",
       "    .dataframe tbody tr th:only-of-type {\n",
       "        vertical-align: middle;\n",
       "    }\n",
       "\n",
       "    .dataframe tbody tr th {\n",
       "        vertical-align: top;\n",
       "    }\n",
       "\n",
       "    .dataframe thead th {\n",
       "        text-align: right;\n",
       "    }\n",
       "</style>\n",
       "<table border=\"1\" class=\"dataframe\">\n",
       "  <thead>\n",
       "    <tr style=\"text-align: right;\">\n",
       "      <th></th>\n",
       "      <th>model</th>\n",
       "      <th>engine_power</th>\n",
       "      <th>age_in_days</th>\n",
       "      <th>km</th>\n",
       "      <th>previous_owners</th>\n",
       "      <th>lat</th>\n",
       "      <th>lon</th>\n",
       "      <th>price</th>\n",
       "    </tr>\n",
       "  </thead>\n",
       "  <tbody>\n",
       "    <tr>\n",
       "      <th>0</th>\n",
       "      <td>lounge</td>\n",
       "      <td>51</td>\n",
       "      <td>882</td>\n",
       "      <td>25000</td>\n",
       "      <td>1</td>\n",
       "      <td>44.907242</td>\n",
       "      <td>8.611560</td>\n",
       "      <td>8900</td>\n",
       "    </tr>\n",
       "    <tr>\n",
       "      <th>1</th>\n",
       "      <td>pop</td>\n",
       "      <td>51</td>\n",
       "      <td>1186</td>\n",
       "      <td>32500</td>\n",
       "      <td>1</td>\n",
       "      <td>45.666359</td>\n",
       "      <td>12.241890</td>\n",
       "      <td>8800</td>\n",
       "    </tr>\n",
       "    <tr>\n",
       "      <th>2</th>\n",
       "      <td>sport</td>\n",
       "      <td>74</td>\n",
       "      <td>4658</td>\n",
       "      <td>142228</td>\n",
       "      <td>1</td>\n",
       "      <td>45.503300</td>\n",
       "      <td>11.417840</td>\n",
       "      <td>4200</td>\n",
       "    </tr>\n",
       "    <tr>\n",
       "      <th>3</th>\n",
       "      <td>lounge</td>\n",
       "      <td>51</td>\n",
       "      <td>2739</td>\n",
       "      <td>160000</td>\n",
       "      <td>1</td>\n",
       "      <td>40.633171</td>\n",
       "      <td>17.634609</td>\n",
       "      <td>6000</td>\n",
       "    </tr>\n",
       "    <tr>\n",
       "      <th>4</th>\n",
       "      <td>pop</td>\n",
       "      <td>73</td>\n",
       "      <td>3074</td>\n",
       "      <td>106880</td>\n",
       "      <td>1</td>\n",
       "      <td>41.903221</td>\n",
       "      <td>12.495650</td>\n",
       "      <td>5700</td>\n",
       "    </tr>\n",
       "  </tbody>\n",
       "</table>\n",
       "</div>"
      ],
      "text/plain": [
       "    model  engine_power  age_in_days      km  previous_owners        lat  \\\n",
       "0  lounge            51          882   25000                1  44.907242   \n",
       "1     pop            51         1186   32500                1  45.666359   \n",
       "2   sport            74         4658  142228                1  45.503300   \n",
       "3  lounge            51         2739  160000                1  40.633171   \n",
       "4     pop            73         3074  106880                1  41.903221   \n",
       "\n",
       "         lon  price  \n",
       "0   8.611560   8900  \n",
       "1  12.241890   8800  \n",
       "2  11.417840   4200  \n",
       "3  17.634609   6000  \n",
       "4  12.495650   5700  "
      ]
     },
     "execution_count": 45,
     "metadata": {},
     "output_type": "execute_result"
    }
   ],
   "source": [
    "df.head()"
   ]
  },
  {
   "cell_type": "code",
   "execution_count": 46,
   "metadata": {},
   "outputs": [
    {
     "name": "stdout",
     "output_type": "stream",
     "text": [
      "<class 'pandas.core.frame.DataFrame'>\n",
      "RangeIndex: 1538 entries, 0 to 1537\n",
      "Data columns (total 8 columns):\n",
      " #   Column           Non-Null Count  Dtype  \n",
      "---  ------           --------------  -----  \n",
      " 0   model            1538 non-null   object \n",
      " 1   engine_power     1538 non-null   int64  \n",
      " 2   age_in_days      1538 non-null   int64  \n",
      " 3   km               1538 non-null   int64  \n",
      " 4   previous_owners  1538 non-null   int64  \n",
      " 5   lat              1538 non-null   float64\n",
      " 6   lon              1538 non-null   float64\n",
      " 7   price            1538 non-null   int64  \n",
      "dtypes: float64(2), int64(5), object(1)\n",
      "memory usage: 90.2+ KB\n"
     ]
    }
   ],
   "source": [
    "df.info()"
   ]
  },
  {
   "cell_type": "code",
   "execution_count": 47,
   "metadata": {},
   "outputs": [
    {
     "data": {
      "text/plain": [
       "model              0\n",
       "engine_power       0\n",
       "age_in_days        0\n",
       "km                 0\n",
       "previous_owners    0\n",
       "lat                0\n",
       "lon                0\n",
       "price              0\n",
       "dtype: int64"
      ]
     },
     "execution_count": 47,
     "metadata": {},
     "output_type": "execute_result"
    }
   ],
   "source": [
    "df.isnull().sum(axis=0)"
   ]
  },
  {
   "cell_type": "markdown",
   "metadata": {},
   "source": [
    "## Exploratory Data Analysis"
   ]
  },
  {
   "cell_type": "code",
   "execution_count": 48,
   "metadata": {},
   "outputs": [
    {
     "data": {
      "text/html": [
       "<div>\n",
       "<style scoped>\n",
       "    .dataframe tbody tr th:only-of-type {\n",
       "        vertical-align: middle;\n",
       "    }\n",
       "\n",
       "    .dataframe tbody tr th {\n",
       "        vertical-align: top;\n",
       "    }\n",
       "\n",
       "    .dataframe thead th {\n",
       "        text-align: right;\n",
       "    }\n",
       "</style>\n",
       "<table border=\"1\" class=\"dataframe\">\n",
       "  <thead>\n",
       "    <tr style=\"text-align: right;\">\n",
       "      <th></th>\n",
       "      <th>model</th>\n",
       "      <th>engine_power</th>\n",
       "      <th>age_in_days</th>\n",
       "      <th>km</th>\n",
       "      <th>previous_owners</th>\n",
       "      <th>lat</th>\n",
       "      <th>lon</th>\n",
       "      <th>price</th>\n",
       "    </tr>\n",
       "  </thead>\n",
       "  <tbody>\n",
       "    <tr>\n",
       "      <th>0</th>\n",
       "      <td>0</td>\n",
       "      <td>51</td>\n",
       "      <td>882</td>\n",
       "      <td>25000</td>\n",
       "      <td>1</td>\n",
       "      <td>44.907242</td>\n",
       "      <td>8.611560</td>\n",
       "      <td>8900</td>\n",
       "    </tr>\n",
       "    <tr>\n",
       "      <th>1</th>\n",
       "      <td>1</td>\n",
       "      <td>51</td>\n",
       "      <td>1186</td>\n",
       "      <td>32500</td>\n",
       "      <td>1</td>\n",
       "      <td>45.666359</td>\n",
       "      <td>12.241890</td>\n",
       "      <td>8800</td>\n",
       "    </tr>\n",
       "    <tr>\n",
       "      <th>2</th>\n",
       "      <td>2</td>\n",
       "      <td>74</td>\n",
       "      <td>4658</td>\n",
       "      <td>142228</td>\n",
       "      <td>1</td>\n",
       "      <td>45.503300</td>\n",
       "      <td>11.417840</td>\n",
       "      <td>4200</td>\n",
       "    </tr>\n",
       "    <tr>\n",
       "      <th>3</th>\n",
       "      <td>0</td>\n",
       "      <td>51</td>\n",
       "      <td>2739</td>\n",
       "      <td>160000</td>\n",
       "      <td>1</td>\n",
       "      <td>40.633171</td>\n",
       "      <td>17.634609</td>\n",
       "      <td>6000</td>\n",
       "    </tr>\n",
       "    <tr>\n",
       "      <th>4</th>\n",
       "      <td>1</td>\n",
       "      <td>73</td>\n",
       "      <td>3074</td>\n",
       "      <td>106880</td>\n",
       "      <td>1</td>\n",
       "      <td>41.903221</td>\n",
       "      <td>12.495650</td>\n",
       "      <td>5700</td>\n",
       "    </tr>\n",
       "    <tr>\n",
       "      <th>5</th>\n",
       "      <td>1</td>\n",
       "      <td>74</td>\n",
       "      <td>3623</td>\n",
       "      <td>70225</td>\n",
       "      <td>1</td>\n",
       "      <td>45.000702</td>\n",
       "      <td>7.682270</td>\n",
       "      <td>7900</td>\n",
       "    </tr>\n",
       "    <tr>\n",
       "      <th>6</th>\n",
       "      <td>0</td>\n",
       "      <td>51</td>\n",
       "      <td>731</td>\n",
       "      <td>11600</td>\n",
       "      <td>1</td>\n",
       "      <td>44.907242</td>\n",
       "      <td>8.611560</td>\n",
       "      <td>10750</td>\n",
       "    </tr>\n",
       "    <tr>\n",
       "      <th>7</th>\n",
       "      <td>0</td>\n",
       "      <td>51</td>\n",
       "      <td>1521</td>\n",
       "      <td>49076</td>\n",
       "      <td>1</td>\n",
       "      <td>41.903221</td>\n",
       "      <td>12.495650</td>\n",
       "      <td>9190</td>\n",
       "    </tr>\n",
       "    <tr>\n",
       "      <th>8</th>\n",
       "      <td>2</td>\n",
       "      <td>73</td>\n",
       "      <td>4049</td>\n",
       "      <td>76000</td>\n",
       "      <td>1</td>\n",
       "      <td>45.548000</td>\n",
       "      <td>11.549470</td>\n",
       "      <td>5600</td>\n",
       "    </tr>\n",
       "    <tr>\n",
       "      <th>9</th>\n",
       "      <td>2</td>\n",
       "      <td>51</td>\n",
       "      <td>3653</td>\n",
       "      <td>89000</td>\n",
       "      <td>1</td>\n",
       "      <td>45.438301</td>\n",
       "      <td>10.991700</td>\n",
       "      <td>6000</td>\n",
       "    </tr>\n",
       "  </tbody>\n",
       "</table>\n",
       "</div>"
      ],
      "text/plain": [
       "   model  engine_power  age_in_days      km  previous_owners        lat  \\\n",
       "0      0            51          882   25000                1  44.907242   \n",
       "1      1            51         1186   32500                1  45.666359   \n",
       "2      2            74         4658  142228                1  45.503300   \n",
       "3      0            51         2739  160000                1  40.633171   \n",
       "4      1            73         3074  106880                1  41.903221   \n",
       "5      1            74         3623   70225                1  45.000702   \n",
       "6      0            51          731   11600                1  44.907242   \n",
       "7      0            51         1521   49076                1  41.903221   \n",
       "8      2            73         4049   76000                1  45.548000   \n",
       "9      2            51         3653   89000                1  45.438301   \n",
       "\n",
       "         lon  price  \n",
       "0   8.611560   8900  \n",
       "1  12.241890   8800  \n",
       "2  11.417840   4200  \n",
       "3  17.634609   6000  \n",
       "4  12.495650   5700  \n",
       "5   7.682270   7900  \n",
       "6   8.611560  10750  \n",
       "7  12.495650   9190  \n",
       "8  11.549470   5600  \n",
       "9  10.991700   6000  "
      ]
     },
     "execution_count": 48,
     "metadata": {},
     "output_type": "execute_result"
    }
   ],
   "source": [
    "# machine learning algorithms require numerical input data, so we need to represent categorical columns\n",
    "# in a numerical column.\n",
    "from sklearn import preprocessing\n",
    "# create the label encoder\n",
    "le = preprocessing.LabelEncoder()\n",
    "# converting string into numbers\n",
    "df['model'] = le.fit_transform(df['model'])\n",
    "df.head(10)"
   ]
  },
  {
   "cell_type": "code",
   "execution_count": 49,
   "metadata": {},
   "outputs": [
    {
     "data": {
      "text/html": [
       "<div>\n",
       "<style scoped>\n",
       "    .dataframe tbody tr th:only-of-type {\n",
       "        vertical-align: middle;\n",
       "    }\n",
       "\n",
       "    .dataframe tbody tr th {\n",
       "        vertical-align: top;\n",
       "    }\n",
       "\n",
       "    .dataframe thead th {\n",
       "        text-align: right;\n",
       "    }\n",
       "</style>\n",
       "<table border=\"1\" class=\"dataframe\">\n",
       "  <thead>\n",
       "    <tr style=\"text-align: right;\">\n",
       "      <th></th>\n",
       "      <th>model</th>\n",
       "      <th>engine_power</th>\n",
       "      <th>age_in_days</th>\n",
       "      <th>km</th>\n",
       "      <th>previous_owners</th>\n",
       "      <th>lat</th>\n",
       "      <th>lon</th>\n",
       "      <th>price</th>\n",
       "    </tr>\n",
       "  </thead>\n",
       "  <tbody>\n",
       "    <tr>\n",
       "      <th>model</th>\n",
       "      <td>1.000000</td>\n",
       "      <td>0.189906</td>\n",
       "      <td>0.326508</td>\n",
       "      <td>0.319580</td>\n",
       "      <td>0.052480</td>\n",
       "      <td>0.044901</td>\n",
       "      <td>-0.013200</td>\n",
       "      <td>-0.349885</td>\n",
       "    </tr>\n",
       "    <tr>\n",
       "      <th>engine_power</th>\n",
       "      <td>0.189906</td>\n",
       "      <td>1.000000</td>\n",
       "      <td>0.319190</td>\n",
       "      <td>0.285495</td>\n",
       "      <td>-0.005030</td>\n",
       "      <td>0.005721</td>\n",
       "      <td>-0.005032</td>\n",
       "      <td>-0.277235</td>\n",
       "    </tr>\n",
       "    <tr>\n",
       "      <th>age_in_days</th>\n",
       "      <td>0.326508</td>\n",
       "      <td>0.319190</td>\n",
       "      <td>1.000000</td>\n",
       "      <td>0.833890</td>\n",
       "      <td>0.075775</td>\n",
       "      <td>0.062982</td>\n",
       "      <td>-0.042667</td>\n",
       "      <td>-0.893328</td>\n",
       "    </tr>\n",
       "    <tr>\n",
       "      <th>km</th>\n",
       "      <td>0.319580</td>\n",
       "      <td>0.285495</td>\n",
       "      <td>0.833890</td>\n",
       "      <td>1.000000</td>\n",
       "      <td>0.097539</td>\n",
       "      <td>0.035519</td>\n",
       "      <td>0.004839</td>\n",
       "      <td>-0.859373</td>\n",
       "    </tr>\n",
       "    <tr>\n",
       "      <th>previous_owners</th>\n",
       "      <td>0.052480</td>\n",
       "      <td>-0.005030</td>\n",
       "      <td>0.075775</td>\n",
       "      <td>0.097539</td>\n",
       "      <td>1.000000</td>\n",
       "      <td>0.001697</td>\n",
       "      <td>-0.026836</td>\n",
       "      <td>-0.076274</td>\n",
       "    </tr>\n",
       "    <tr>\n",
       "      <th>lat</th>\n",
       "      <td>0.044901</td>\n",
       "      <td>0.005721</td>\n",
       "      <td>0.062982</td>\n",
       "      <td>0.035519</td>\n",
       "      <td>0.001697</td>\n",
       "      <td>1.000000</td>\n",
       "      <td>-0.766646</td>\n",
       "      <td>-0.011733</td>\n",
       "    </tr>\n",
       "    <tr>\n",
       "      <th>lon</th>\n",
       "      <td>-0.013200</td>\n",
       "      <td>-0.005032</td>\n",
       "      <td>-0.042667</td>\n",
       "      <td>0.004839</td>\n",
       "      <td>-0.026836</td>\n",
       "      <td>-0.766646</td>\n",
       "      <td>1.000000</td>\n",
       "      <td>-0.003541</td>\n",
       "    </tr>\n",
       "    <tr>\n",
       "      <th>price</th>\n",
       "      <td>-0.349885</td>\n",
       "      <td>-0.277235</td>\n",
       "      <td>-0.893328</td>\n",
       "      <td>-0.859373</td>\n",
       "      <td>-0.076274</td>\n",
       "      <td>-0.011733</td>\n",
       "      <td>-0.003541</td>\n",
       "      <td>1.000000</td>\n",
       "    </tr>\n",
       "  </tbody>\n",
       "</table>\n",
       "</div>"
      ],
      "text/plain": [
       "                    model  engine_power  age_in_days        km  \\\n",
       "model            1.000000      0.189906     0.326508  0.319580   \n",
       "engine_power     0.189906      1.000000     0.319190  0.285495   \n",
       "age_in_days      0.326508      0.319190     1.000000  0.833890   \n",
       "km               0.319580      0.285495     0.833890  1.000000   \n",
       "previous_owners  0.052480     -0.005030     0.075775  0.097539   \n",
       "lat              0.044901      0.005721     0.062982  0.035519   \n",
       "lon             -0.013200     -0.005032    -0.042667  0.004839   \n",
       "price           -0.349885     -0.277235    -0.893328 -0.859373   \n",
       "\n",
       "                 previous_owners       lat       lon     price  \n",
       "model                   0.052480  0.044901 -0.013200 -0.349885  \n",
       "engine_power           -0.005030  0.005721 -0.005032 -0.277235  \n",
       "age_in_days             0.075775  0.062982 -0.042667 -0.893328  \n",
       "km                      0.097539  0.035519  0.004839 -0.859373  \n",
       "previous_owners         1.000000  0.001697 -0.026836 -0.076274  \n",
       "lat                     0.001697  1.000000 -0.766646 -0.011733  \n",
       "lon                    -0.026836 -0.766646  1.000000 -0.003541  \n",
       "price                  -0.076274 -0.011733 -0.003541  1.000000  "
      ]
     },
     "execution_count": 49,
     "metadata": {},
     "output_type": "execute_result"
    }
   ],
   "source": [
    "df.corr()"
   ]
  },
  {
   "cell_type": "code",
   "execution_count": 50,
   "metadata": {},
   "outputs": [
    {
     "data": {
      "text/plain": [
       "model              2.296460\n",
       "engine_power       2.087610\n",
       "age_in_days        3.554339\n",
       "km                 3.436236\n",
       "previous_owners    1.335630\n",
       "lat                1.929200\n",
       "lon                1.862762\n",
       "price              3.471368\n",
       "dtype: float64"
      ]
     },
     "execution_count": 50,
     "metadata": {},
     "output_type": "execute_result"
    }
   ],
   "source": [
    "df.corr().abs().sum() # below I can notice that lon, lat and previous owners are not useful for my study"
   ]
  },
  {
   "cell_type": "code",
   "execution_count": 51,
   "metadata": {},
   "outputs": [],
   "source": [
    "car = df.drop(columns=['previous_owners', 'lat', 'lon'])"
   ]
  },
  {
   "cell_type": "code",
   "execution_count": 52,
   "metadata": {},
   "outputs": [
    {
     "data": {
      "text/html": [
       "<div>\n",
       "<style scoped>\n",
       "    .dataframe tbody tr th:only-of-type {\n",
       "        vertical-align: middle;\n",
       "    }\n",
       "\n",
       "    .dataframe tbody tr th {\n",
       "        vertical-align: top;\n",
       "    }\n",
       "\n",
       "    .dataframe thead th {\n",
       "        text-align: right;\n",
       "    }\n",
       "</style>\n",
       "<table border=\"1\" class=\"dataframe\">\n",
       "  <thead>\n",
       "    <tr style=\"text-align: right;\">\n",
       "      <th></th>\n",
       "      <th>model</th>\n",
       "      <th>engine_power</th>\n",
       "      <th>age_in_days</th>\n",
       "      <th>km</th>\n",
       "      <th>price</th>\n",
       "    </tr>\n",
       "  </thead>\n",
       "  <tbody>\n",
       "    <tr>\n",
       "      <th>0</th>\n",
       "      <td>0</td>\n",
       "      <td>51</td>\n",
       "      <td>882</td>\n",
       "      <td>25000</td>\n",
       "      <td>8900</td>\n",
       "    </tr>\n",
       "    <tr>\n",
       "      <th>1</th>\n",
       "      <td>1</td>\n",
       "      <td>51</td>\n",
       "      <td>1186</td>\n",
       "      <td>32500</td>\n",
       "      <td>8800</td>\n",
       "    </tr>\n",
       "    <tr>\n",
       "      <th>2</th>\n",
       "      <td>2</td>\n",
       "      <td>74</td>\n",
       "      <td>4658</td>\n",
       "      <td>142228</td>\n",
       "      <td>4200</td>\n",
       "    </tr>\n",
       "    <tr>\n",
       "      <th>3</th>\n",
       "      <td>0</td>\n",
       "      <td>51</td>\n",
       "      <td>2739</td>\n",
       "      <td>160000</td>\n",
       "      <td>6000</td>\n",
       "    </tr>\n",
       "    <tr>\n",
       "      <th>4</th>\n",
       "      <td>1</td>\n",
       "      <td>73</td>\n",
       "      <td>3074</td>\n",
       "      <td>106880</td>\n",
       "      <td>5700</td>\n",
       "    </tr>\n",
       "  </tbody>\n",
       "</table>\n",
       "</div>"
      ],
      "text/plain": [
       "   model  engine_power  age_in_days      km  price\n",
       "0      0            51          882   25000   8900\n",
       "1      1            51         1186   32500   8800\n",
       "2      2            74         4658  142228   4200\n",
       "3      0            51         2739  160000   6000\n",
       "4      1            73         3074  106880   5700"
      ]
     },
     "execution_count": 52,
     "metadata": {},
     "output_type": "execute_result"
    }
   ],
   "source": [
    "car.head()"
   ]
  },
  {
   "cell_type": "code",
   "execution_count": 53,
   "metadata": {},
   "outputs": [
    {
     "name": "stdout",
     "output_type": "stream",
     "text": [
      "[[0.59301184 0.22685815 0.59652371 0.70930077 0.16706618]\n",
      " [1.12784139 0.22685815 0.36070081 0.52195911 0.11550192]\n",
      " [2.84869462 5.54228649 2.33264489 2.21892419 2.25645389]\n",
      " ...\n",
      " [1.12784139 0.22685815 0.44373453 0.17637563 0.55483342]\n",
      " [0.59301184 0.22685815 0.70282942 0.68327218 1.33345369]\n",
      " [1.12784139 0.22685815 0.08922445 0.02198113 0.34857639]]\n"
     ]
    }
   ],
   "source": [
    "from scipy import stats\n",
    "\n",
    "z = np.abs(stats.zscore(car))\n",
    "print(z)"
   ]
  },
  {
   "cell_type": "code",
   "execution_count": 54,
   "metadata": {},
   "outputs": [
    {
     "data": {
      "text/plain": [
       "(1491, 5)"
      ]
     },
     "execution_count": 54,
     "metadata": {},
     "output_type": "execute_result"
    }
   ],
   "source": [
    "car_outliers_Zscore = car[(z<3).all(axis=1)]\n",
    "car_outliers_Zscore.shape # the shape of my dataset changed. That means there are some outliers in the dataset"
   ]
  },
  {
   "cell_type": "code",
   "execution_count": 55,
   "metadata": {},
   "outputs": [
    {
     "name": "stdout",
     "output_type": "stream",
     "text": [
      "model               1.0\n",
      "engine_power        0.0\n",
      "age_in_days      1946.0\n",
      "km              59661.5\n",
      "price            2877.5\n",
      "dtype: float64\n"
     ]
    }
   ],
   "source": [
    "Q1 = car.quantile(0.25)\n",
    "Q3 = car.quantile(0.75)\n",
    "IQR = Q3 - Q1\n",
    "print(IQR) # I want to know the statistical dispersion"
   ]
  },
  {
   "cell_type": "code",
   "execution_count": 56,
   "metadata": {},
   "outputs": [
    {
     "data": {
      "text/plain": [
       "(1445, 5)"
      ]
     },
     "execution_count": 56,
     "metadata": {},
     "output_type": "execute_result"
    }
   ],
   "source": [
    "car_IQR_outlier = car[~((car < (Q1 - 1.5 *IQR)) | (car > (Q3+1.5*IQR))).any(axis=1)]\n",
    "car_IQR_outlier.shape #remove the outliers"
   ]
  },
  {
   "cell_type": "code",
   "execution_count": 57,
   "metadata": {},
   "outputs": [
    {
     "name": "stderr",
     "output_type": "stream",
     "text": [
      "C:\\Users\\moryb\\anaconda\\lib\\site-packages\\seaborn\\distributions.py:288: UserWarning: Data must have variance to compute a kernel density estimate.\n",
      "  warnings.warn(msg, UserWarning)\n",
      "C:\\Users\\moryb\\anaconda\\lib\\site-packages\\seaborn\\distributions.py:288: UserWarning: Data must have variance to compute a kernel density estimate.\n",
      "  warnings.warn(msg, UserWarning)\n",
      "C:\\Users\\moryb\\anaconda\\lib\\site-packages\\seaborn\\distributions.py:288: UserWarning: Data must have variance to compute a kernel density estimate.\n",
      "  warnings.warn(msg, UserWarning)\n"
     ]
    },
    {
     "data": {
      "text/plain": [
       "<seaborn.axisgrid.PairGrid at 0x113c6a90>"
      ]
     },
     "execution_count": 57,
     "metadata": {},
     "output_type": "execute_result"
    },
    {
     "data": {
      "image/png": "[encoded data removed]",
      "text/plain": [
       "<Figure size 762.375x720 with 20 Axes>"
      ]
     },
     "metadata": {
      "needs_background": "light"
     },
     "output_type": "display_data"
    }
   ],
   "source": [
    "y = car_IQR_outlier['model']\n",
    "# as you can see below all three car models are influenced by the correlations of age_in_days,km and price\n",
    "sns.pairplot(car_IQR_outlier, hue='model') "
   ]
  },
  {
   "cell_type": "code",
   "execution_count": 58,
   "metadata": {},
   "outputs": [
    {
     "data": {
      "text/html": [
       "<div>\n",
       "<style scoped>\n",
       "    .dataframe tbody tr th:only-of-type {\n",
       "        vertical-align: middle;\n",
       "    }\n",
       "\n",
       "    .dataframe tbody tr th {\n",
       "        vertical-align: top;\n",
       "    }\n",
       "\n",
       "    .dataframe thead th {\n",
       "        text-align: right;\n",
       "    }\n",
       "</style>\n",
       "<table border=\"1\" class=\"dataframe\">\n",
       "  <thead>\n",
       "    <tr style=\"text-align: right;\">\n",
       "      <th></th>\n",
       "      <th>model</th>\n",
       "      <th>engine_power</th>\n",
       "      <th>age_in_days</th>\n",
       "      <th>km</th>\n",
       "      <th>price</th>\n",
       "    </tr>\n",
       "  </thead>\n",
       "  <tbody>\n",
       "    <tr>\n",
       "      <th>count</th>\n",
       "      <td>1445.000000</td>\n",
       "      <td>1445.0</td>\n",
       "      <td>1445.000000</td>\n",
       "      <td>1445.000000</td>\n",
       "      <td>1445.000000</td>\n",
       "    </tr>\n",
       "    <tr>\n",
       "      <th>mean</th>\n",
       "      <td>0.312803</td>\n",
       "      <td>51.0</td>\n",
       "      <td>1540.778547</td>\n",
       "      <td>50054.350865</td>\n",
       "      <td>8727.425606</td>\n",
       "    </tr>\n",
       "    <tr>\n",
       "      <th>std</th>\n",
       "      <td>0.546085</td>\n",
       "      <td>0.0</td>\n",
       "      <td>1228.486278</td>\n",
       "      <td>37032.594905</td>\n",
       "      <td>1855.116152</td>\n",
       "    </tr>\n",
       "    <tr>\n",
       "      <th>min</th>\n",
       "      <td>0.000000</td>\n",
       "      <td>51.0</td>\n",
       "      <td>366.000000</td>\n",
       "      <td>1232.000000</td>\n",
       "      <td>3390.000000</td>\n",
       "    </tr>\n",
       "    <tr>\n",
       "      <th>25%</th>\n",
       "      <td>0.000000</td>\n",
       "      <td>51.0</td>\n",
       "      <td>670.000000</td>\n",
       "      <td>19570.000000</td>\n",
       "      <td>7450.000000</td>\n",
       "    </tr>\n",
       "    <tr>\n",
       "      <th>50%</th>\n",
       "      <td>0.000000</td>\n",
       "      <td>51.0</td>\n",
       "      <td>821.000000</td>\n",
       "      <td>37000.000000</td>\n",
       "      <td>9400.000000</td>\n",
       "    </tr>\n",
       "    <tr>\n",
       "      <th>75%</th>\n",
       "      <td>1.000000</td>\n",
       "      <td>51.0</td>\n",
       "      <td>2374.000000</td>\n",
       "      <td>73000.000000</td>\n",
       "      <td>10200.000000</td>\n",
       "    </tr>\n",
       "    <tr>\n",
       "      <th>max</th>\n",
       "      <td>2.000000</td>\n",
       "      <td>51.0</td>\n",
       "      <td>4658.000000</td>\n",
       "      <td>165600.000000</td>\n",
       "      <td>11100.000000</td>\n",
       "    </tr>\n",
       "  </tbody>\n",
       "</table>\n",
       "</div>"
      ],
      "text/plain": [
       "             model  engine_power  age_in_days             km         price\n",
       "count  1445.000000        1445.0  1445.000000    1445.000000   1445.000000\n",
       "mean      0.312803          51.0  1540.778547   50054.350865   8727.425606\n",
       "std       0.546085           0.0  1228.486278   37032.594905   1855.116152\n",
       "min       0.000000          51.0   366.000000    1232.000000   3390.000000\n",
       "25%       0.000000          51.0   670.000000   19570.000000   7450.000000\n",
       "50%       0.000000          51.0   821.000000   37000.000000   9400.000000\n",
       "75%       1.000000          51.0  2374.000000   73000.000000  10200.000000\n",
       "max       2.000000          51.0  4658.000000  165600.000000  11100.000000"
      ]
     },
     "execution_count": 58,
     "metadata": {},
     "output_type": "execute_result"
    }
   ],
   "source": [
    "car_IQR_outlier.describe()"
   ]
  },
  {
   "cell_type": "code",
   "execution_count": 59,
   "metadata": {},
   "outputs": [
    {
     "data": {
      "text/plain": [
       "<matplotlib.axes._subplots.AxesSubplot at 0x13012f50>"
      ]
     },
     "execution_count": 59,
     "metadata": {},
     "output_type": "execute_result"
    },
    {
     "data": {
      "image/png": "[encoded data removed]",
      "text/plain": [
       "<Figure size 864x648 with 2 Axes>"
      ]
     },
     "metadata": {
      "needs_background": "light"
     },
     "output_type": "display_data"
    }
   ],
   "source": [
    "corr_matrix = car_IQR_outlier[['model','km','age_in_days']].corr().round(2)\n",
    "plt.figure(figsize=(12,9))\n",
    "sns.heatmap(data=corr_matrix, annot=True, cmap=\"YlGnBu\") # the matrix correlation without the engine_power which is not useful"
   ]
  },
  {
   "cell_type": "markdown",
   "metadata": {},
   "source": [
    "## Prepare the model"
   ]
  },
  {
   "cell_type": "code",
   "execution_count": 60,
   "metadata": {},
   "outputs": [],
   "source": [
    "X = car_IQR_outlier[['model','km','age_in_days']]\n",
    "y = car_IQR_outlier['price']"
   ]
  },
  {
   "cell_type": "code",
   "execution_count": 61,
   "metadata": {},
   "outputs": [
    {
     "data": {
      "text/plain": [
       "LinearRegression(copy_X=True, fit_intercept=True, n_jobs=None, normalize=False)"
      ]
     },
     "execution_count": 61,
     "metadata": {},
     "output_type": "execute_result"
    }
   ],
   "source": [
    "from sklearn.linear_model import LinearRegression\n",
    "X_train, X_test, y_train, y_test = train_test_split(X, y, test_size=0.2, random_state=0)\n",
    "lr = LinearRegression()\n",
    "lr.fit(X_train, y_train)"
   ]
  },
  {
   "cell_type": "code",
   "execution_count": 71,
   "metadata": {},
   "outputs": [
    {
     "name": "stdout",
     "output_type": "stream",
     "text": [
      "X_train shape: (1156, 3)\n",
      "y_train shape: (1156,)\n"
     ]
    }
   ],
   "source": [
    "print(\"X_train shape: {}\".format(X_train.shape))\n",
    "print(\"y_train shape: {}\".format(y_train.shape))"
   ]
  },
  {
   "cell_type": "code",
   "execution_count": 72,
   "metadata": {},
   "outputs": [
    {
     "name": "stdout",
     "output_type": "stream",
     "text": [
      "X_test shape: (289, 3)\n",
      "y_test shape: (289,)\n"
     ]
    }
   ],
   "source": [
    "print(\"X_test shape: {}\".format(X_test.shape))\n",
    "print(\"y_test shape: {}\".format(y_test.shape))"
   ]
  },
  {
   "cell_type": "code",
   "execution_count": 62,
   "metadata": {},
   "outputs": [
    {
     "data": {
      "text/html": [
       "<div>\n",
       "<style scoped>\n",
       "    .dataframe tbody tr th:only-of-type {\n",
       "        vertical-align: middle;\n",
       "    }\n",
       "\n",
       "    .dataframe tbody tr th {\n",
       "        vertical-align: top;\n",
       "    }\n",
       "\n",
       "    .dataframe thead th {\n",
       "        text-align: right;\n",
       "    }\n",
       "</style>\n",
       "<table border=\"1\" class=\"dataframe\">\n",
       "  <thead>\n",
       "    <tr style=\"text-align: right;\">\n",
       "      <th></th>\n",
       "      <th>Coefficient</th>\n",
       "    </tr>\n",
       "  </thead>\n",
       "  <tbody>\n",
       "    <tr>\n",
       "      <th>model</th>\n",
       "      <td>-134.014334</td>\n",
       "    </tr>\n",
       "    <tr>\n",
       "      <th>km</th>\n",
       "      <td>-0.018719</td>\n",
       "    </tr>\n",
       "    <tr>\n",
       "      <th>age_in_days</th>\n",
       "      <td>-0.852865</td>\n",
       "    </tr>\n",
       "  </tbody>\n",
       "</table>\n",
       "</div>"
      ],
      "text/plain": [
       "             Coefficient\n",
       "model        -134.014334\n",
       "km             -0.018719\n",
       "age_in_days    -0.852865"
      ]
     },
     "execution_count": 62,
     "metadata": {},
     "output_type": "execute_result"
    }
   ],
   "source": [
    "coef_df = pd.DataFrame(lr.coef_, X.columns, columns=['Coefficient'])\n",
    "coef_df"
   ]
  },
  {
   "cell_type": "markdown",
   "metadata": {},
   "source": [
    "## Evaluate the model"
   ]
  },
  {
   "cell_type": "code",
   "execution_count": 63,
   "metadata": {},
   "outputs": [],
   "source": [
    "y_pred = lr.predict(X_test)"
   ]
  },
  {
   "cell_type": "code",
   "execution_count": 64,
   "metadata": {},
   "outputs": [
    {
     "data": {
      "text/html": [
       "<div>\n",
       "<style scoped>\n",
       "    .dataframe tbody tr th:only-of-type {\n",
       "        vertical-align: middle;\n",
       "    }\n",
       "\n",
       "    .dataframe tbody tr th {\n",
       "        vertical-align: top;\n",
       "    }\n",
       "\n",
       "    .dataframe thead th {\n",
       "        text-align: right;\n",
       "    }\n",
       "</style>\n",
       "<table border=\"1\" class=\"dataframe\">\n",
       "  <thead>\n",
       "    <tr style=\"text-align: right;\">\n",
       "      <th></th>\n",
       "      <th>Actual</th>\n",
       "      <th>Predicted</th>\n",
       "    </tr>\n",
       "  </thead>\n",
       "  <tbody>\n",
       "    <tr>\n",
       "      <th>1406</th>\n",
       "      <td>8500</td>\n",
       "      <td>9517.246653</td>\n",
       "    </tr>\n",
       "    <tr>\n",
       "      <th>507</th>\n",
       "      <td>9450</td>\n",
       "      <td>10045.631106</td>\n",
       "    </tr>\n",
       "    <tr>\n",
       "      <th>202</th>\n",
       "      <td>10400</td>\n",
       "      <td>9972.988270</td>\n",
       "    </tr>\n",
       "    <tr>\n",
       "      <th>328</th>\n",
       "      <td>10950</td>\n",
       "      <td>10370.877150</td>\n",
       "    </tr>\n",
       "    <tr>\n",
       "      <th>1055</th>\n",
       "      <td>9550</td>\n",
       "      <td>10436.167655</td>\n",
       "    </tr>\n",
       "    <tr>\n",
       "      <th>1041</th>\n",
       "      <td>8900</td>\n",
       "      <td>9766.852502</td>\n",
       "    </tr>\n",
       "    <tr>\n",
       "      <th>1273</th>\n",
       "      <td>8900</td>\n",
       "      <td>8835.122553</td>\n",
       "    </tr>\n",
       "    <tr>\n",
       "      <th>664</th>\n",
       "      <td>8200</td>\n",
       "      <td>8676.816919</td>\n",
       "    </tr>\n",
       "    <tr>\n",
       "      <th>926</th>\n",
       "      <td>5990</td>\n",
       "      <td>6397.684126</td>\n",
       "    </tr>\n",
       "    <tr>\n",
       "      <th>359</th>\n",
       "      <td>10500</td>\n",
       "      <td>9699.402503</td>\n",
       "    </tr>\n",
       "    <tr>\n",
       "      <th>473</th>\n",
       "      <td>4700</td>\n",
       "      <td>5630.577518</td>\n",
       "    </tr>\n",
       "    <tr>\n",
       "      <th>40</th>\n",
       "      <td>4890</td>\n",
       "      <td>5002.764264</td>\n",
       "    </tr>\n",
       "    <tr>\n",
       "      <th>772</th>\n",
       "      <td>5300</td>\n",
       "      <td>5737.502989</td>\n",
       "    </tr>\n",
       "    <tr>\n",
       "      <th>60</th>\n",
       "      <td>5900</td>\n",
       "      <td>6424.479282</td>\n",
       "    </tr>\n",
       "    <tr>\n",
       "      <th>516</th>\n",
       "      <td>10800</td>\n",
       "      <td>10422.855280</td>\n",
       "    </tr>\n",
       "    <tr>\n",
       "      <th>464</th>\n",
       "      <td>10800</td>\n",
       "      <td>10150.797028</td>\n",
       "    </tr>\n",
       "    <tr>\n",
       "      <th>830</th>\n",
       "      <td>9950</td>\n",
       "      <td>9221.850671</td>\n",
       "    </tr>\n",
       "    <tr>\n",
       "      <th>334</th>\n",
       "      <td>9100</td>\n",
       "      <td>10436.078773</td>\n",
       "    </tr>\n",
       "    <tr>\n",
       "      <th>63</th>\n",
       "      <td>8800</td>\n",
       "      <td>8286.120057</td>\n",
       "    </tr>\n",
       "    <tr>\n",
       "      <th>965</th>\n",
       "      <td>7380</td>\n",
       "      <td>7673.301444</td>\n",
       "    </tr>\n",
       "    <tr>\n",
       "      <th>177</th>\n",
       "      <td>10800</td>\n",
       "      <td>9481.884458</td>\n",
       "    </tr>\n",
       "    <tr>\n",
       "      <th>1526</th>\n",
       "      <td>9300</td>\n",
       "      <td>9132.422724</td>\n",
       "    </tr>\n",
       "    <tr>\n",
       "      <th>321</th>\n",
       "      <td>9980</td>\n",
       "      <td>10339.108227</td>\n",
       "    </tr>\n",
       "    <tr>\n",
       "      <th>677</th>\n",
       "      <td>8800</td>\n",
       "      <td>9553.315738</td>\n",
       "    </tr>\n",
       "    <tr>\n",
       "      <th>120</th>\n",
       "      <td>9500</td>\n",
       "      <td>9023.632210</td>\n",
       "    </tr>\n",
       "    <tr>\n",
       "      <th>356</th>\n",
       "      <td>6200</td>\n",
       "      <td>7007.644238</td>\n",
       "    </tr>\n",
       "    <tr>\n",
       "      <th>37</th>\n",
       "      <td>7200</td>\n",
       "      <td>7229.075517</td>\n",
       "    </tr>\n",
       "    <tr>\n",
       "      <th>1127</th>\n",
       "      <td>6490</td>\n",
       "      <td>7361.113498</td>\n",
       "    </tr>\n",
       "    <tr>\n",
       "      <th>1371</th>\n",
       "      <td>5100</td>\n",
       "      <td>4987.277485</td>\n",
       "    </tr>\n",
       "    <tr>\n",
       "      <th>387</th>\n",
       "      <td>9980</td>\n",
       "      <td>9781.917572</td>\n",
       "    </tr>\n",
       "  </tbody>\n",
       "</table>\n",
       "</div>"
      ],
      "text/plain": [
       "      Actual     Predicted\n",
       "1406    8500   9517.246653\n",
       "507     9450  10045.631106\n",
       "202    10400   9972.988270\n",
       "328    10950  10370.877150\n",
       "1055    9550  10436.167655\n",
       "1041    8900   9766.852502\n",
       "1273    8900   8835.122553\n",
       "664     8200   8676.816919\n",
       "926     5990   6397.684126\n",
       "359    10500   9699.402503\n",
       "473     4700   5630.577518\n",
       "40      4890   5002.764264\n",
       "772     5300   5737.502989\n",
       "60      5900   6424.479282\n",
       "516    10800  10422.855280\n",
       "464    10800  10150.797028\n",
       "830     9950   9221.850671\n",
       "334     9100  10436.078773\n",
       "63      8800   8286.120057\n",
       "965     7380   7673.301444\n",
       "177    10800   9481.884458\n",
       "1526    9300   9132.422724\n",
       "321     9980  10339.108227\n",
       "677     8800   9553.315738\n",
       "120     9500   9023.632210\n",
       "356     6200   7007.644238\n",
       "37      7200   7229.075517\n",
       "1127    6490   7361.113498\n",
       "1371    5100   4987.277485\n",
       "387     9980   9781.917572"
      ]
     },
     "execution_count": 64,
     "metadata": {},
     "output_type": "execute_result"
    }
   ],
   "source": [
    "compare = pd.DataFrame({'Actual': y_test, 'Predicted': y_pred})\n",
    "compare1 = compare.head(30)\n",
    "compare1"
   ]
  },
  {
   "cell_type": "code",
   "execution_count": 65,
   "metadata": {},
   "outputs": [
    {
     "data": {
      "text/html": [
       "<div>\n",
       "<style scoped>\n",
       "    .dataframe tbody tr th:only-of-type {\n",
       "        vertical-align: middle;\n",
       "    }\n",
       "\n",
       "    .dataframe tbody tr th {\n",
       "        vertical-align: top;\n",
       "    }\n",
       "\n",
       "    .dataframe thead th {\n",
       "        text-align: right;\n",
       "    }\n",
       "</style>\n",
       "<table border=\"1\" class=\"dataframe\">\n",
       "  <thead>\n",
       "    <tr style=\"text-align: right;\">\n",
       "      <th></th>\n",
       "      <th>Actual</th>\n",
       "      <th>Predicted</th>\n",
       "    </tr>\n",
       "  </thead>\n",
       "  <tbody>\n",
       "    <tr>\n",
       "      <th>count</th>\n",
       "      <td>289.000000</td>\n",
       "      <td>289.000000</td>\n",
       "    </tr>\n",
       "    <tr>\n",
       "      <th>mean</th>\n",
       "      <td>8639.692042</td>\n",
       "      <td>8679.428261</td>\n",
       "    </tr>\n",
       "    <tr>\n",
       "      <th>std</th>\n",
       "      <td>1873.109511</td>\n",
       "      <td>1716.336158</td>\n",
       "    </tr>\n",
       "    <tr>\n",
       "      <th>min</th>\n",
       "      <td>3900.000000</td>\n",
       "      <td>4386.122273</td>\n",
       "    </tr>\n",
       "    <tr>\n",
       "      <th>25%</th>\n",
       "      <td>7400.000000</td>\n",
       "      <td>7223.513346</td>\n",
       "    </tr>\n",
       "    <tr>\n",
       "      <th>50%</th>\n",
       "      <td>9400.000000</td>\n",
       "      <td>9528.981547</td>\n",
       "    </tr>\n",
       "    <tr>\n",
       "      <th>75%</th>\n",
       "      <td>10000.000000</td>\n",
       "      <td>10037.115476</td>\n",
       "    </tr>\n",
       "    <tr>\n",
       "      <th>max</th>\n",
       "      <td>11090.000000</td>\n",
       "      <td>10543.059063</td>\n",
       "    </tr>\n",
       "  </tbody>\n",
       "</table>\n",
       "</div>"
      ],
      "text/plain": [
       "             Actual     Predicted\n",
       "count    289.000000    289.000000\n",
       "mean    8639.692042   8679.428261\n",
       "std     1873.109511   1716.336158\n",
       "min     3900.000000   4386.122273\n",
       "25%     7400.000000   7223.513346\n",
       "50%     9400.000000   9528.981547\n",
       "75%    10000.000000  10037.115476\n",
       "max    11090.000000  10543.059063"
      ]
     },
     "execution_count": 65,
     "metadata": {},
     "output_type": "execute_result"
    }
   ],
   "source": [
    "compare.describe()"
   ]
  },
  {
   "cell_type": "code",
   "execution_count": 66,
   "metadata": {},
   "outputs": [
    {
     "data": {
      "image/png": "[encoded data removed]",
      "text/plain": [
       "<Figure size 720x576 with 1 Axes>"
      ]
     },
     "metadata": {
      "needs_background": "light"
     },
     "output_type": "display_data"
    }
   ],
   "source": [
    "compare1.plot(kind='bar',figsize=(10,8))\n",
    "plt.grid(which='major', linestyle='-', linewidth='0.5', color='green')\n",
    "plt.grid(which='minor', linestyle=':', linewidth='0.5', color='black')\n",
    "plt.show() # as we can see below the prediction is not bad"
   ]
  },
  {
   "cell_type": "code",
   "execution_count": 67,
   "metadata": {},
   "outputs": [
    {
     "data": {
      "text/plain": [
       "0.85"
      ]
     },
     "execution_count": 67,
     "metadata": {},
     "output_type": "execute_result"
    }
   ],
   "source": [
    "from sklearn.metrics import r2_score\n",
    "round(sklearn.metrics.r2_score(y_test, y_pred), 2) # the model can explain 85% of the variation of the dependent variables"
   ]
  },
  {
   "cell_type": "code",
   "execution_count": 68,
   "metadata": {},
   "outputs": [
    {
     "name": "stdout",
     "output_type": "stream",
     "text": [
      "Mean Absolute Error: 592.7427470157699\n",
      "Mean Squared Error: 534856.8649782678\n",
      "Root Mean Squared Error: 731.3390902845737\n"
     ]
    }
   ],
   "source": [
    "from sklearn import metrics\n",
    "print('Mean Absolute Error:', metrics.mean_absolute_error(y_test, y_pred))  \n",
    "print('Mean Squared Error:', metrics.mean_squared_error(y_test, y_pred))  \n",
    "print('Root Mean Squared Error:', np.sqrt(metrics.mean_squared_error(y_test, y_pred)))#measure how large the residuals are being dispersed "
   ]
  },
  {
   "cell_type": "code",
   "execution_count": 69,
   "metadata": {},
   "outputs": [
    {
     "name": "stdout",
     "output_type": "stream",
     "text": [
      "Training set score: 0.83\n",
      "Test set score: 0.85\n"
     ]
    }
   ],
   "source": [
    "print(\"Training set score: {:.2f}\".format(lr.score(X_train, y_train)))\n",
    "print(\"Test set score: {:.2f}\".format(lr.score(X_test, y_test)))"
   ]
  }
 ],
 "metadata": {
  "kernelspec": {
   "display_name": "Python 3",
   "language": "python",
   "name": "python3"
  },
  "language_info": {
   "codemirror_mode": {
    "name": "ipython",
    "version": 3
   },
   "file_extension": ".py",
   "mimetype": "text/x-python",
   "name": "python",
   "nbconvert_exporter": "python",
   "pygments_lexer": "ipython3",
   "version": "3.7.6"
  }
 },
 "nbformat": 4,
 "nbformat_minor": 4
}
